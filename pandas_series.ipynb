{
 "cells": [
  {
   "cell_type": "code",
   "execution_count": 3,
   "id": "f8fe5ff8-b88c-4a41-bd66-57ece9043642",
   "metadata": {},
   "outputs": [],
   "source": [
    "import pandas as pd"
   ]
  },
  {
   "cell_type": "markdown",
   "id": "0c1af9c6-29ef-4ca5-8e1c-a166615922e3",
   "metadata": {},
   "source": [
    "# Series"
   ]
  },
  {
   "cell_type": "markdown",
   "id": "3c42ada8-bd63-42b4-ad1a-14ac05240ddf",
   "metadata": {},
   "source": [
    "## Creating"
   ]
  },
  {
   "cell_type": "code",
   "execution_count": 6,
   "id": "a509ce45-678c-416d-9061-ac8db7e5e753",
   "metadata": {},
   "outputs": [
    {
     "data": {
      "text/plain": [
       "eggs        1\n",
       "apples      2\n",
       "milk        3\n",
       "bread     0.1\n",
       "dtype: object"
      ]
     },
     "execution_count": 6,
     "metadata": {},
     "output_type": "execute_result"
    }
   ],
   "source": [
    "groceries = pd.Series(data=[1, \"2\", 3, 0.1], index=['eggs', 'apples', 'milk', 'bread'])\n",
    "groceries"
   ]
  },
  {
   "cell_type": "code",
   "execution_count": 7,
   "id": "63ad4bac-24d1-4c78-90c1-5351de3fc1ee",
   "metadata": {},
   "outputs": [
    {
     "name": "stdout",
     "output_type": "stream",
     "text": [
      "Groceries has shape: (4,)\n",
      "Groceries has dimension: 1\n",
      "Groceries has a total of 4 elements\n"
     ]
    }
   ],
   "source": [
    "# We print some information about Groceries\n",
    "print('Groceries has shape:', groceries.shape)\n",
    "print('Groceries has dimension:', groceries.ndim)\n",
    "print('Groceries has a total of', groceries.size, 'elements')"
   ]
  },
  {
   "cell_type": "code",
   "execution_count": 8,
   "id": "eb632635-1b0a-4c3a-b96e-07cf3b8fd23d",
   "metadata": {},
   "outputs": [
    {
     "name": "stdout",
     "output_type": "stream",
     "text": [
      "The data in Groceries is: [1 '2' 3 0.1]\n",
      "The index of Groceries is: Index(['eggs', 'apples', 'milk', 'bread'], dtype='object')\n"
     ]
    }
   ],
   "source": [
    "# We print the index and data of Groceries\n",
    "print('The data in Groceries is:', groceries.values)\n",
    "print('The index of Groceries is:', groceries.index)"
   ]
  },
  {
   "cell_type": "markdown",
   "id": "42b4dd07-05e6-4a73-9700-b11130ad7326",
   "metadata": {},
   "source": [
    "## Accesing and deleting"
   ]
  },
  {
   "cell_type": "code",
   "execution_count": 10,
   "id": "00ed1645-109d-4482-ace7-2c2d464b8b4d",
   "metadata": {},
   "outputs": [
    {
     "name": "stdout",
     "output_type": "stream",
     "text": [
      "How many eggs do we need to buy: 1\n"
     ]
    }
   ],
   "source": [
    "# We use a single index label\n",
    "print('How many eggs do we need to buy:', groceries['eggs'])"
   ]
  },
  {
   "cell_type": "code",
   "execution_count": 11,
   "id": "65ce4904-6d35-4581-af51-78602802c3c1",
   "metadata": {},
   "outputs": [
    {
     "name": "stdout",
     "output_type": "stream",
     "text": [
      "Do we need milk and bread:\n",
      " milk       3\n",
      "bread    0.1\n",
      "dtype: object\n",
      "\n"
     ]
    }
   ],
   "source": [
    "# we can access multiple index labels\n",
    "print('Do we need milk and bread:\\n', groceries[['milk', 'bread']]) \n",
    "print()\n"
   ]
  },
  {
   "cell_type": "code",
   "execution_count": 13,
   "id": "9e110e24-54d3-4ed7-9277-fe51b2ee22d8",
   "metadata": {},
   "outputs": [
    {
     "name": "stdout",
     "output_type": "stream",
     "text": [
      "Do we need milk and bread:\n",
      " milk       3\n",
      "bread    0.1\n",
      "dtype: object\n",
      "\n"
     ]
    }
   ],
   "source": [
    "\n",
    "# we use loc to access multiple index labels\n",
    "print('Do we need milk and bread:\\n', groceries.loc[['milk', 'bread']]) \n",
    "print()\n"
   ]
  },
  {
   "cell_type": "code",
   "execution_count": 33,
   "id": "8214bbbc-a0be-4a20-952e-3de473f88edc",
   "metadata": {},
   "outputs": [
    {
     "data": {
      "text/plain": [
       "3"
      ]
     },
     "execution_count": 33,
     "metadata": {},
     "output_type": "execute_result"
    }
   ],
   "source": [
    "groceries.at['milk']"
   ]
  },
  {
   "cell_type": "code",
   "execution_count": 34,
   "id": "af3c05c6-08c3-4348-b41a-2ec0563f6bd5",
   "metadata": {},
   "outputs": [
    {
     "name": "stdout",
     "output_type": "stream",
     "text": [
      "Index : eggs, Value : 2\n",
      "Index : milk, Value : 3\n",
      "Index : bread, Value : 0.1\n"
     ]
    }
   ],
   "source": [
    "for index, value in groceries.items():\n",
    "    print(f\"Index : {index}, Value : {value}\")"
   ]
  },
  {
   "cell_type": "markdown",
   "id": "db0dd5f8-0181-43a9-9bdd-58238327cf26",
   "metadata": {},
   "source": [
    "### We access elements in Groceries using numerical indices:"
   ]
  },
  {
   "cell_type": "code",
   "execution_count": 21,
   "id": "289b0a05-ad25-4021-8a58-36f1f78968c1",
   "metadata": {},
   "outputs": [
    {
     "name": "stdout",
     "output_type": "stream",
     "text": [
      "How many eggs and apples do we need to buy:\n",
      " eggs      1\n",
      "apples    2\n",
      "dtype: object\n",
      "\n"
     ]
    },
    {
     "name": "stderr",
     "output_type": "stream",
     "text": [
      "/tmp/ipykernel_18946/1279241491.py:2: FutureWarning: Series.__getitem__ treating keys as positions is deprecated. In a future version, integer keys will always be treated as labels (consistent with DataFrame behavior). To access a value by position, use `ser.iloc[pos]`\n",
      "  print('How many eggs and apples do we need to buy:\\n',  groceries[[0, 1]])\n"
     ]
    }
   ],
   "source": [
    "# we use multiple numerical indices\n",
    "print('How many eggs and apples do we need to buy:\\n',  groceries[[0, 1]]) \n",
    "print()\n",
    "## However this is now deprecated\n"
   ]
  },
  {
   "cell_type": "code",
   "execution_count": 22,
   "id": "41605b25-469f-4c4a-a3c3-8784a795dce2",
   "metadata": {},
   "outputs": [
    {
     "name": "stdout",
     "output_type": "stream",
     "text": [
      "Do we need milk and bread:\n",
      " eggs      1\n",
      "apples    2\n",
      "dtype: object\n"
     ]
    }
   ],
   "source": [
    "\n",
    "# we use iloc to access multiple numerical indices\n",
    "print('Do we need milk and bread:\\n', groceries.iloc[[0, 1]]) "
   ]
  },
  {
   "cell_type": "markdown",
   "id": "96e8c630-f01f-4bab-aa62-4c30f6715400",
   "metadata": {},
   "source": [
    "## Mutate elements using index labels"
   ]
  },
  {
   "cell_type": "code",
   "execution_count": 23,
   "id": "647bbceb-cba1-4bf9-8720-9a00ef776e35",
   "metadata": {},
   "outputs": [
    {
     "name": "stdout",
     "output_type": "stream",
     "text": [
      "Original Grocery List:\n",
      " eggs        1\n",
      "apples      2\n",
      "milk        3\n",
      "bread     0.1\n",
      "dtype: object\n"
     ]
    }
   ],
   "source": [
    "# We display the original grocery list\n",
    "print('Original Grocery List:\\n', groceries)\n"
   ]
  },
  {
   "cell_type": "code",
   "execution_count": 24,
   "id": "66fc124d-e3cb-45bf-ade3-0e0ac475aa56",
   "metadata": {},
   "outputs": [],
   "source": [
    "# We change the number of eggs to 2\n",
    "groceries['eggs'] = 2\n"
   ]
  },
  {
   "cell_type": "code",
   "execution_count": 25,
   "id": "1aa9d916-1636-42e7-bba2-569eae60beb0",
   "metadata": {},
   "outputs": [
    {
     "name": "stdout",
     "output_type": "stream",
     "text": [
      "Grocery List after removing apples in place:\n",
      " eggs        2\n",
      "apples      2\n",
      "milk        3\n",
      "bread     0.1\n",
      "dtype: object\n"
     ]
    }
   ],
   "source": [
    "print('Grocery List after removing apples in place:\\n', groceries)"
   ]
  },
  {
   "cell_type": "markdown",
   "id": "f500166a-0f7c-4ad3-b88e-dd7a954157d1",
   "metadata": {},
   "source": [
    "## Deleting items"
   ]
  },
  {
   "cell_type": "code",
   "execution_count": 26,
   "id": "0bcb703e-aace-402d-bf1d-f8f4f121c254",
   "metadata": {},
   "outputs": [
    {
     "name": "stdout",
     "output_type": "stream",
     "text": [
      "Original Grocery List:\n",
      " eggs        2\n",
      "apples      2\n",
      "milk        3\n",
      "bread     0.1\n",
      "dtype: object\n"
     ]
    }
   ],
   "source": [
    "# We display the original grocery list\n",
    "print('Original Grocery List:\\n', groceries)\n"
   ]
  },
  {
   "cell_type": "code",
   "execution_count": 27,
   "id": "a3010d0b-0543-43d8-9ccf-ad83b23a04bb",
   "metadata": {},
   "outputs": [
    {
     "name": "stdout",
     "output_type": "stream",
     "text": [
      "\n",
      "We remove apples (out of place):\n",
      " eggs       2\n",
      "milk       3\n",
      "bread    0.1\n",
      "dtype: object\n"
     ]
    }
   ],
   "source": [
    "# We remove apples from our grocery list. The drop function removes elements out of place\n",
    "print()\n",
    "print('We remove apples (out of place):\\n', groceries.drop('apples'))"
   ]
  },
  {
   "cell_type": "code",
   "execution_count": 28,
   "id": "7fa61983-723f-4484-8a11-2f3f61ac7469",
   "metadata": {},
   "outputs": [
    {
     "name": "stdout",
     "output_type": "stream",
     "text": [
      "\n",
      "Grocery List after removing apples out of place:\n",
      " eggs        2\n",
      "apples      2\n",
      "milk        3\n",
      "bread     0.1\n",
      "dtype: object\n"
     ]
    }
   ],
   "source": [
    "# When we remove elements out of place the original Series remains intact. To see this\n",
    "# we display our grocery list again\n",
    "print()\n",
    "print('Grocery List after removing apples out of place:\\n', groceries)"
   ]
  },
  {
   "cell_type": "markdown",
   "id": "e983eb75-328f-449e-9093-f0003554d9a4",
   "metadata": {},
   "source": [
    "### Delete elements in-place using drop()"
   ]
  },
  {
   "cell_type": "code",
   "execution_count": 29,
   "id": "db115efc-4671-4bcf-ac4d-b545748e48fc",
   "metadata": {},
   "outputs": [
    {
     "name": "stdout",
     "output_type": "stream",
     "text": [
      "Original Grocery List:\n",
      " eggs        2\n",
      "apples      2\n",
      "milk        3\n",
      "bread     0.1\n",
      "dtype: object\n",
      "\n",
      "Grocery List after removing apples in place:\n",
      " eggs       2\n",
      "milk       3\n",
      "bread    0.1\n",
      "dtype: object\n"
     ]
    }
   ],
   "source": [
    "# We display the original grocery list\n",
    "print('Original Grocery List:\\n', groceries)\n",
    "\n",
    "# We remove apples from our grocery list in place by setting the inplace keyword to True\n",
    "groceries.drop('apples', inplace = True)\n",
    "\n",
    "# When we remove elements in place the original Series its modified. To see this\n",
    "# we display our grocery list again\n",
    "print()\n",
    "print('Grocery List after removing apples in place:\\n', groceries)"
   ]
  },
  {
   "cell_type": "code",
   "execution_count": null,
   "id": "946c17ae-9661-47cc-a624-ec7f9deea89f",
   "metadata": {},
   "outputs": [],
   "source": []
  },
  {
   "cell_type": "markdown",
   "id": "c2c69454-1435-4096-8757-6a98c124254c",
   "metadata": {},
   "source": [
    "# Pandas arithmetic operations"
   ]
  },
  {
   "cell_type": "code",
   "execution_count": 35,
   "id": "7f9ea479-6414-4b58-ac2f-69fffaac96fa",
   "metadata": {},
   "outputs": [
    {
     "data": {
      "text/plain": [
       "apples     10\n",
       "oranges     6\n",
       "bananas     3\n",
       "dtype: int64"
      ]
     },
     "execution_count": 35,
     "metadata": {},
     "output_type": "execute_result"
    }
   ],
   "source": [
    "# We create a Pandas Series that stores a grocery list of just fruits\n",
    "fruits= pd.Series(data = [10, 6, 3,], index = ['apples', 'oranges', 'bananas'])\n",
    "\n",
    "# We display the fruits Pandas Series\n",
    "fruits"
   ]
  },
  {
   "cell_type": "code",
   "execution_count": 36,
   "id": "55710082-b8e0-4c64-aef0-386d707d325d",
   "metadata": {},
   "outputs": [
    {
     "name": "stdout",
     "output_type": "stream",
     "text": [
      "\n",
      "fruits + 2:\n",
      " apples     12\n",
      "oranges     8\n",
      "bananas     5\n",
      "dtype: int64\n",
      "\n",
      "fruits - 2:\n",
      " apples     8\n",
      "oranges    4\n",
      "bananas    1\n",
      "dtype: int64\n",
      "\n",
      "fruits  *2:\n",
      " apples     20\n",
      "oranges    12\n",
      "bananas     6\n",
      "dtype: int64\n",
      "\n",
      "fruits / 2:\n",
      " apples     5.0\n",
      "oranges    3.0\n",
      "bananas    1.5\n",
      "dtype: float64\n",
      "\n"
     ]
    }
   ],
   "source": [
    "# We perform basic element-wise operations using arithmetic symbols\n",
    "print()\n",
    "print('fruits + 2:\\n', fruits + 2) # We add 2 to each item in fruits\n",
    "print()\n",
    "print('fruits - 2:\\n', fruits - 2) # We subtract 2 to each item in fruits\n",
    "print()\n",
    "print('fruits  *2:\\n', fruits*  2) # We multiply each item in fruits by 2 \n",
    "print()\n",
    "print('fruits / 2:\\n', fruits / 2) # We divide each item in fruits by 2\n",
    "print()"
   ]
  },
  {
   "cell_type": "code",
   "execution_count": 37,
   "id": "15dbb55f-c7d9-420a-a4ea-fc62db7b93d1",
   "metadata": {},
   "outputs": [
    {
     "name": "stdout",
     "output_type": "stream",
     "text": [
      "Original grocery list of fruits:\n",
      " apples     10\n",
      "oranges     6\n",
      "bananas     3\n",
      "dtype: int64\n",
      "\n",
      "EXP(X) = \n",
      " apples     22026.465795\n",
      "oranges      403.428793\n",
      "bananas       20.085537\n",
      "dtype: float64\n",
      "\n",
      "SQRT(X) =\n",
      " apples     3.162278\n",
      "oranges    2.449490\n",
      "bananas    1.732051\n",
      "dtype: float64\n",
      "\n",
      "POW(X,2) =\n",
      " apples     100\n",
      "oranges     36\n",
      "bananas      9\n",
      "dtype: int64\n"
     ]
    }
   ],
   "source": [
    "# We import NumPy as np to be able to use the mathematical functions\n",
    "import numpy as np\n",
    "\n",
    "# We print fruits for reference\n",
    "print('Original grocery list of fruits:\\n', fruits)\n",
    "\n",
    "# We apply different mathematical functions to all elements of fruits\n",
    "print()\n",
    "print('EXP(X) = \\n', np.exp(fruits))\n",
    "print() \n",
    "print('SQRT(X) =\\n', np.sqrt(fruits))\n",
    "print()\n",
    "print('POW(X,2) =\\n',np.power(fruits,2)) # We raise all elements of fruits to the power of 2"
   ]
  },
  {
   "cell_type": "markdown",
   "id": "314609ff-e768-4f56-9069-581b2ee1d39c",
   "metadata": {},
   "source": [
    "## Perform arithmetic operations on selected elements"
   ]
  },
  {
   "cell_type": "code",
   "execution_count": 38,
   "id": "5396d478-01aa-4568-b844-7f86f9facff5",
   "metadata": {},
   "outputs": [
    {
     "name": "stdout",
     "output_type": "stream",
     "text": [
      "Original grocery list of fruits:\n",
      "  apples     10\n",
      "oranges     6\n",
      "bananas     3\n",
      "dtype: int64\n",
      "\n",
      "Amount of bananas + 2 =  5\n",
      "\n",
      "Amount of apples - 2 =  8\n",
      "\n",
      "We double the amount of apples and oranges:\n",
      " apples     20\n",
      "oranges    12\n",
      "dtype: int64\n",
      "\n",
      "We half the amount of apples and oranges:\n",
      " apples     5.0\n",
      "oranges    3.0\n",
      "dtype: float64\n"
     ]
    }
   ],
   "source": [
    "# We print fruits for reference\n",
    "print('Original grocery list of fruits:\\n ', fruits)\n",
    "print()\n",
    "\n",
    "# We add 2 only to the bananas\n",
    "print('Amount of bananas + 2 = ', fruits['bananas'] + 2)\n",
    "print()\n",
    "\n",
    "# We subtract 2 from apples\n",
    "print('Amount of apples - 2 = ', fruits.iloc[0] - 2)\n",
    "print()\n",
    "\n",
    "# We multiply apples and oranges by 2\n",
    "print('We double the amount of apples and oranges:\\n', fruits[['apples', 'oranges']] * 2)\n",
    "print()\n",
    "\n",
    "# We divide apples and oranges by 2\n",
    "print('We half the amount of apples and oranges:\\n', fruits.loc[['apples', 'oranges']] / 2)"
   ]
  },
  {
   "cell_type": "code",
   "execution_count": null,
   "id": "8978492b-bb74-4571-a7bf-4efd247be4e7",
   "metadata": {},
   "outputs": [],
   "source": []
  }
 ],
 "metadata": {
  "kernelspec": {
   "display_name": "Python 3 (ipykernel)",
   "language": "python",
   "name": "python3"
  },
  "language_info": {
   "codemirror_mode": {
    "name": "ipython",
    "version": 3
   },
   "file_extension": ".py",
   "mimetype": "text/x-python",
   "name": "python",
   "nbconvert_exporter": "python",
   "pygments_lexer": "ipython3",
   "version": "3.11.5"
  }
 },
 "nbformat": 4,
 "nbformat_minor": 5
}
