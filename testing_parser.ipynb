{
 "cells": [
  {
   "cell_type": "code",
   "execution_count": 6,
   "id": "39852907-cf3b-4b2b-9de6-37193c1f2449",
   "metadata": {},
   "outputs": [],
   "source": [
    "class Register:\n",
    "    registry = dict()\n",
    "\n",
    "def camilo_decorator(cls):\n",
    "    print(\"camilo decorator\")\n",
    "    cls.call_inside_decorator()\n",
    "    return cls"
   ]
  },
  {
   "cell_type": "code",
   "execution_count": 7,
   "id": "8c030b10-3018-46d3-872e-3059562084e0",
   "metadata": {},
   "outputs": [
    {
     "name": "stdout",
     "output_type": "stream",
     "text": [
      "camilo decorator\n",
      "hola mundo\n"
     ]
    }
   ],
   "source": [
    "@camilo_decorator\n",
    "class CamiloClass:\n",
    "    DOMAIN = \"DOMAIN1\"\n",
    "    ATTR2 = 2\n",
    "\n",
    "    def __init__(self):\n",
    "        self.attr3 = 3\n",
    "        print(\"init\")\n",
    "\n",
    "    @staticmethod\n",
    "    def call_inside_decorator():\n",
    "        print(\"hola mundo\")"
   ]
  },
  {
   "cell_type": "markdown",
   "id": "d40020d4-e2ae-4818-bd0d-c8eccfa3446e",
   "metadata": {},
   "source": [
    "# Antoher test"
   ]
  },
  {
   "cell_type": "code",
   "execution_count": 22,
   "id": "57623053-aff8-4b3b-9fe7-343299374eb9",
   "metadata": {},
   "outputs": [],
   "source": [
    "class Camilo:\n",
    "    DOMAIN = \"1\"\n",
    "\n",
    "    def name(self):\n",
    "        print(\"Soy Camilo\")\n",
    "\n",
    "    def check_is_able(self):\n",
    "        if self.is_able():\n",
    "            print(\"IS ABLE\")\n",
    "        else:\n",
    "            print(\"IS not ABLE\")\n",
    "\n",
    "    def is_able(self):\n",
    "        return True\n",
    "\n",
    "class A(Camilo):\n",
    "    DOMAIN = \"A\"\n",
    "    def name(self):\n",
    "        print(\"Soy A\")\n",
    "\n",
    "    def is_able(self):\n",
    "        return True\n",
    "\n",
    "class B(Camilo):\n",
    "    DOMAIN = \"B\"\n",
    "    def name(self):\n",
    "        print(\"Soy B\")\n",
    "\n",
    "    def is_able(self):\n",
    "        return False\n",
    "\n",
    "class C(Camilo):\n",
    "    DOMAIN = \"C\"\n",
    "    \n",
    "    def name(self):\n",
    "        print(\"Soy C\")\n",
    "\n",
    "    def is_able(self):\n",
    "        return False"
   ]
  },
  {
   "cell_type": "code",
   "execution_count": 17,
   "id": "7c1e8e79-a133-4038-a9fe-b66d8bdf7a65",
   "metadata": {},
   "outputs": [
    {
     "name": "stdout",
     "output_type": "stream",
     "text": [
      "Soy B\n"
     ]
    }
   ],
   "source": [
    "Camilo.__subclasses__()[1]().name()"
   ]
  },
  {
   "cell_type": "code",
   "execution_count": 24,
   "id": "78eefc3a-ce2a-4d93-9ed0-74de024c6afe",
   "metadata": {},
   "outputs": [
    {
     "name": "stdout",
     "output_type": "stream",
     "text": [
      "IS ABLE\n"
     ]
    }
   ],
   "source": [
    "Camilo.__subclasses__()[0]().check_is_able()"
   ]
  },
  {
   "cell_type": "code",
   "execution_count": 25,
   "id": "5a6110cd-8496-42cc-bb82-157ad3cd430a",
   "metadata": {},
   "outputs": [
    {
     "name": "stdout",
     "output_type": "stream",
     "text": [
      "IS not ABLE\n"
     ]
    }
   ],
   "source": [
    "Camilo.__subclasses__()[2]().check_is_able()"
   ]
  },
  {
   "cell_type": "code",
   "execution_count": null,
   "id": "2e8bded3-9a15-471f-946a-fece86e4d3cc",
   "metadata": {},
   "outputs": [],
   "source": []
  }
 ],
 "metadata": {
  "kernelspec": {
   "display_name": "Python 3 (ipykernel)",
   "language": "python",
   "name": "python3"
  },
  "language_info": {
   "codemirror_mode": {
    "name": "ipython",
    "version": 3
   },
   "file_extension": ".py",
   "mimetype": "text/x-python",
   "name": "python",
   "nbconvert_exporter": "python",
   "pygments_lexer": "ipython3",
   "version": "3.11.5"
  }
 },
 "nbformat": 4,
 "nbformat_minor": 5
}
