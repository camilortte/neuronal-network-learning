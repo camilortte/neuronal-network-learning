{
 "cells": [
  {
   "cell_type": "code",
   "execution_count": 5,
   "id": "984de5fb-2839-4554-a5df-997844ce387a",
   "metadata": {},
   "outputs": [
    {
     "name": "stdout",
     "output_type": "stream",
     "text": [
      "camilo\n",
      "otsssssro\n"
     ]
    }
   ],
   "source": [
    "print(\"camilo\")\n",
    "\n",
    "print(\"otsssssro\")"
   ]
  },
  {
   "cell_type": "markdown",
   "id": "4f6cbaa0-b9c1-42d3-b9d2-d36252a2705d",
   "metadata": {},
   "source": [
    "# This is a markdown\n",
    "\n",
    "This is a texr"
   ]
  },
  {
   "cell_type": "code",
   "execution_count": 6,
   "id": "1ad203e9-d423-4763-9128-39ca3e5e1724",
   "metadata": {},
   "outputs": [
    {
     "ename": "NameError",
     "evalue": "name 's' is not defined",
     "output_type": "error",
     "traceback": [
      "\u001b[0;31m---------------------------------------------------------------------------\u001b[0m",
      "\u001b[0;31mNameError\u001b[0m                                 Traceback (most recent call last)",
      "Cell \u001b[0;32mIn[6], line 1\u001b[0m\n\u001b[0;32m----> 1\u001b[0m s\n\u001b[1;32m      4\u001b[0m s\n",
      "\u001b[0;31mNameError\u001b[0m: name 's' is not defined"
     ]
    }
   ],
   "source": [
    "s\n",
    "\n",
    "\n",
    "s"
   ]
  },
  {
   "cell_type": "code",
   "execution_count": null,
   "id": "8c338ac5-40b0-41bf-9a6c-a0add40ffe9c",
   "metadata": {},
   "outputs": [],
   "source": []
  }
 ],
 "metadata": {
  "kernelspec": {
   "display_name": "Python 3 (ipykernel)",
   "language": "python",
   "name": "python3"
  },
  "language_info": {
   "codemirror_mode": {
    "name": "ipython",
    "version": 3
   },
   "file_extension": ".py",
   "mimetype": "text/x-python",
   "name": "python",
   "nbconvert_exporter": "python",
   "pygments_lexer": "ipython3",
   "version": "3.11.5"
  }
 },
 "nbformat": 4,
 "nbformat_minor": 5
}
