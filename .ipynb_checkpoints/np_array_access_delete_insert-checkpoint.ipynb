{
 "cells": [
  {
   "cell_type": "code",
   "execution_count": 1,
   "id": "73e2eecd-cfd4-44c6-9149-34b7d11b68cb",
   "metadata": {},
   "outputs": [],
   "source": [
    "import numpy as np"
   ]
  },
  {
   "cell_type": "markdown",
   "id": "7effddfb-73dd-4bc0-9295-76f101a89916",
   "metadata": {},
   "source": [
    "# Accesing elements\n"
   ]
  },
  {
   "cell_type": "code",
   "execution_count": 2,
   "id": "70bd1523-a771-41e8-95b8-94eb5a76b9c4",
   "metadata": {},
   "outputs": [],
   "source": [
    "x = np.array([1, 2, 3, 4, 5])"
   ]
  },
  {
   "cell_type": "code",
   "execution_count": 3,
   "id": "0f005255-972e-43d6-9cd8-8ee97f6dcd3e",
   "metadata": {},
   "outputs": [
    {
     "name": "stdout",
     "output_type": "stream",
     "text": [
      "This is First Element in x: 1\n",
      "This is Second Element in x: 2\n",
      "This is Fifth (Last) Element in x: 5\n"
     ]
    }
   ],
   "source": [
    "print('This is First Element in x:', x[0]) \n",
    "print('This is Second Element in x:', x[1])\n",
    "print('This is Fifth (Last) Element in x:', x[4])"
   ]
  },
  {
   "cell_type": "code",
   "execution_count": 11,
   "id": "d4917207-864a-476a-944c-d4125bd49cb6",
   "metadata": {},
   "outputs": [
    {
     "name": "stdout",
     "output_type": "stream",
     "text": [
      "This is First Element in x: 1\n",
      "This is Second Element in x: 2\n",
      "This is Fifth (Last) Element in x: 5\n"
     ]
    }
   ],
   "source": [
    "# Let's access the same elements with negative indices\n",
    "print('This is First Element in x:', x[-5])\n",
    "print('This is Second Element in x:', x[-4])\n",
    "print('This is Fifth (Last) Element in x:', x[-1])"
   ]
  },
  {
   "cell_type": "markdown",
   "id": "5a7ebc55-bd06-40b1-9088-d8cada197b56",
   "metadata": {},
   "source": [
    "## For 2n array"
   ]
  },
  {
   "cell_type": "code",
   "execution_count": 12,
   "id": "4e2d7bfd-e81f-4faa-a4d6-4693dbae8543",
   "metadata": {},
   "outputs": [],
   "source": [
    "# We create a 3 x 3 rank 2 ndarray that contains integers from 1 to 9\n",
    "X = np.array([[1,2,3],[4,5,6],[7,8,9]])"
   ]
  },
  {
   "cell_type": "code",
   "execution_count": 14,
   "id": "afa5ef5c-0deb-46e5-934b-5d5fc9825bdd",
   "metadata": {},
   "outputs": [
    {
     "name": "stdout",
     "output_type": "stream",
     "text": [
      "This is (0,0) Element in X: 1 or 1\n",
      "This is (0,1) Element in X: 2\n",
      "This is (2,2) Element in X: 9\n"
     ]
    }
   ],
   "source": [
    "# Let's access some elements in X\n",
    "print('This is (0,0) Element in X:', X[0,0] , 'or', X[0][0])\n",
    "print('This is (0,1) Element in X:', X[0,1])\n",
    "print('This is (2,2) Element in X:', X[2,2])"
   ]
  },
  {
   "cell_type": "markdown",
   "id": "7efed5d0-cf0f-4605-9dd8-54ed0359620e",
   "metadata": {},
   "source": [
    "# Modify elements\n"
   ]
  },
  {
   "cell_type": "code",
   "execution_count": 5,
   "id": "bba08353-9981-4b44-9932-3ba0ca24023b",
   "metadata": {},
   "outputs": [],
   "source": [
    "x = np.array([1, 2, 3, 4, 5])"
   ]
  },
  {
   "cell_type": "code",
   "execution_count": 6,
   "id": "9e4c5e38-3194-4395-8f14-1f8037028d10",
   "metadata": {},
   "outputs": [],
   "source": [
    "# We change the fourth element in x from 4 to 20\n",
    "x[3] = 20"
   ]
  },
  {
   "cell_type": "code",
   "execution_count": 7,
   "id": "6a2c4703-503a-41e8-87bf-3809eb68a6e5",
   "metadata": {},
   "outputs": [
    {
     "name": "stdout",
     "output_type": "stream",
     "text": [
      "Modified:\n",
      " x =  [ 1  2  3 20  5]\n"
     ]
    }
   ],
   "source": [
    "print('Modified:\\n x = ', x)\n"
   ]
  },
  {
   "cell_type": "code",
   "execution_count": 8,
   "id": "9cbbaaf1-3491-4c33-ba36-ba0a89638486",
   "metadata": {},
   "outputs": [],
   "source": [
    "# We create a 3 x 3 rank 2 ndarray that contains integers from 1 to 9\n",
    "X = np.array([[1,2,3],[4,5,6],[7,8,9]])"
   ]
  },
  {
   "cell_type": "code",
   "execution_count": 9,
   "id": "be5ad3d2-d500-4555-9672-44cdc6e295ca",
   "metadata": {},
   "outputs": [
    {
     "data": {
      "text/plain": [
       "5"
      ]
     },
     "execution_count": 9,
     "metadata": {},
     "output_type": "execute_result"
    }
   ],
   "source": [
    "X[1][1]"
   ]
  },
  {
   "cell_type": "markdown",
   "id": "9154ef6d-db6a-4e49-b44a-aa42a26beafc",
   "metadata": {},
   "source": [
    "## Modify elements in 2n array\n"
   ]
  },
  {
   "cell_type": "code",
   "execution_count": 18,
   "id": "7589663b-0b3a-4a12-8da3-e110c5c0b266",
   "metadata": {},
   "outputs": [
    {
     "name": "stdout",
     "output_type": "stream",
     "text": [
      "Modified:\n",
      " X = \n",
      " [[20  2  3]\n",
      " [ 4  5  6]\n",
      " [ 7  8  9]]\n"
     ]
    }
   ],
   "source": [
    "X = np.array([[1,2,3],[4,5,6],[7,8,9]])\n",
    "# We change the (0,0) element in X from 1 to 20\n",
    "X[0,0] = 20\n",
    "\n",
    "# We print X after it was modified \n",
    "print('Modified:\\n X = \\n', X)"
   ]
  },
  {
   "cell_type": "markdown",
   "id": "04bb1003-1474-434d-92bf-5b1734224aa4",
   "metadata": {},
   "source": [
    "# Deleting elements"
   ]
  },
  {
   "cell_type": "code",
   "execution_count": 22,
   "id": "ff894968-fdcd-4adc-9e37-ada26a440d88",
   "metadata": {},
   "outputs": [],
   "source": [
    "# We create a rank 1 ndarray \n",
    "x = np.array([1, 2, 3, 4, 5])\n",
    "\n",
    "# We create a rank 2 ndarray\n",
    "Y = np.array([[1,2,3],[4,5,6],[7,8,9]])"
   ]
  },
  {
   "cell_type": "code",
   "execution_count": 20,
   "id": "96e48e7f-e882-45b3-96f2-9c478495fb96",
   "metadata": {},
   "outputs": [
    {
     "data": {
      "text/plain": [
       "array([2, 3, 4])"
      ]
     },
     "execution_count": 20,
     "metadata": {},
     "output_type": "execute_result"
    }
   ],
   "source": [
    "# We delete the first and last element of x\n",
    "x = np.delete(x, [0,4])\n",
    "x"
   ]
  },
  {
   "cell_type": "code",
   "execution_count": 21,
   "id": "4badc8ff-e953-48f6-97a8-55db1f8b8a41",
   "metadata": {},
   "outputs": [
    {
     "data": {
      "text/plain": [
       "array([[4, 5, 6],\n",
       "       [7, 8, 9]])"
      ]
     },
     "execution_count": 21,
     "metadata": {},
     "output_type": "execute_result"
    }
   ],
   "source": [
    "# We delete the first row of y\n",
    "w = np.delete(Y, 0, axis=0)\n",
    "w\n"
   ]
  },
  {
   "cell_type": "code",
   "execution_count": 24,
   "id": "449a72da-292a-40ad-93b1-058510b11111",
   "metadata": {},
   "outputs": [
    {
     "data": {
      "text/plain": [
       "array([[2],\n",
       "       [5],\n",
       "       [8]])"
      ]
     },
     "execution_count": 24,
     "metadata": {},
     "output_type": "execute_result"
    }
   ],
   "source": [
    "# We delete the first and last column of y\n",
    "v = np.delete(Y, [0,2], axis=1)\n",
    "v"
   ]
  },
  {
   "cell_type": "markdown",
   "id": "667d1dc1-c402-467f-8c62-c3c701bebdd2",
   "metadata": {},
   "source": [
    "# Append"
   ]
  },
  {
   "cell_type": "code",
   "execution_count": 29,
   "id": "8aa509a3-ad58-4bbd-8b7e-285844bdd1fc",
   "metadata": {},
   "outputs": [],
   "source": [
    "# We create a rank 1 ndarray \n",
    "x = np.array([1, 2, 3, 4, 5])\n",
    "\n",
    "# We create a rank 2 ndarray \n",
    "Y = np.array([[1,2,3],[4,5,6]])\n"
   ]
  },
  {
   "cell_type": "code",
   "execution_count": 30,
   "id": "93a79fac-cf61-44bc-af6a-6b77b47d7dc5",
   "metadata": {},
   "outputs": [
    {
     "data": {
      "text/plain": [
       "array([1, 2, 3, 4, 5, 6])"
      ]
     },
     "execution_count": 30,
     "metadata": {},
     "output_type": "execute_result"
    }
   ],
   "source": [
    "# We append the integer 6 to x\n",
    "x = np.append(x, 6)\n",
    "x"
   ]
  },
  {
   "cell_type": "code",
   "execution_count": 31,
   "id": "5cc038d8-b629-40bd-8633-584f150cdcaa",
   "metadata": {},
   "outputs": [
    {
     "data": {
      "text/plain": [
       "array([1, 2, 3, 4, 5, 6, 7, 8])"
      ]
     },
     "execution_count": 31,
     "metadata": {},
     "output_type": "execute_result"
    }
   ],
   "source": [
    "# We append the integer 7 and 8 to x\n",
    "x = np.append(x, [7,8])\n",
    "x"
   ]
  },
  {
   "cell_type": "code",
   "execution_count": 32,
   "id": "112121ab-50ec-4ee9-8d00-dd26fb88fe15",
   "metadata": {},
   "outputs": [
    {
     "data": {
      "text/plain": [
       "array([[1, 2, 3],\n",
       "       [4, 5, 6],\n",
       "       [7, 8, 9]])"
      ]
     },
     "execution_count": 32,
     "metadata": {},
     "output_type": "execute_result"
    }
   ],
   "source": [
    "# We append a new row containing 7,8,9 to y\n",
    "v = np.append(Y, [[7,8,9]], axis=0)\n",
    "v"
   ]
  },
  {
   "cell_type": "code",
   "execution_count": 33,
   "id": "dee4304f-8834-45b2-9407-0320e55b0165",
   "metadata": {},
   "outputs": [
    {
     "data": {
      "text/plain": [
       "array([[ 1,  2,  3,  9],\n",
       "       [ 4,  5,  6, 10]])"
      ]
     },
     "execution_count": 33,
     "metadata": {},
     "output_type": "execute_result"
    }
   ],
   "source": [
    "# We append a new column containing 9 and 10 to y\n",
    "q = np.append(Y,[[9],[10]], axis=1)\n",
    "q"
   ]
  },
  {
   "cell_type": "markdown",
   "id": "d2560d35-8543-416f-9581-bcc5a056aed3",
   "metadata": {},
   "source": [
    "# Inserting elements"
   ]
  },
  {
   "cell_type": "code",
   "execution_count": 34,
   "id": "c7343ea8-174a-462b-9d1a-71bd123ad528",
   "metadata": {},
   "outputs": [],
   "source": [
    "# We create a rank 1 ndarray \n",
    "x = np.array([1, 2, 5, 6, 7])\n",
    "\n",
    "# We create a rank 2 ndarray \n",
    "Y = np.array([[1,2,3],[7,8,9]])\n"
   ]
  },
  {
   "cell_type": "code",
   "execution_count": 36,
   "id": "7485e8a3-2f16-4128-b5b1-701afa553b07",
   "metadata": {},
   "outputs": [
    {
     "data": {
      "text/plain": [
       "array([1, 2, 3, 4, 5, 6, 7])"
      ]
     },
     "execution_count": 36,
     "metadata": {},
     "output_type": "execute_result"
    }
   ],
   "source": [
    "#  Inserting integer 3 and 4 betweend 2 and 5 in x\n",
    "np.insert(x, 2, [3, 4])"
   ]
  },
  {
   "cell_type": "code",
   "execution_count": 38,
   "id": "56f80ed8-6b58-42d5-abd3-42adbb00154a",
   "metadata": {},
   "outputs": [
    {
     "data": {
      "text/plain": [
       "array([[1, 2, 3],\n",
       "       [4, 5, 6],\n",
       "       [7, 8, 9]])"
      ]
     },
     "execution_count": 38,
     "metadata": {},
     "output_type": "execute_result"
    }
   ],
   "source": [
    "# Inserting a row between the first and last row of Y\n",
    "np.insert(Y, 1, [4,5,6], axis=0)"
   ]
  },
  {
   "cell_type": "code",
   "execution_count": 42,
   "id": "126484ac-f400-4ce1-9e5c-20cc2f1378b2",
   "metadata": {},
   "outputs": [
    {
     "data": {
      "text/plain": [
       "array([[1, 5, 2, 3],\n",
       "       [7, 5, 8, 9]])"
      ]
     },
     "execution_count": 42,
     "metadata": {},
     "output_type": "execute_result"
    }
   ],
   "source": [
    "# Inserting a columns full of 5s between the firsrt an second column of y\n",
    "np.insert(Y, 1, [5,5], axis=1) # np.insert(Y, 1, 5, axis=1) is valid too"
   ]
  },
  {
   "cell_type": "markdown",
   "id": "ed826921-6cb2-49d0-b3b2-2361b005f096",
   "metadata": {},
   "source": [
    "# numpy.hstack and numpy.vstack\n",
    "\n",
    "It returns a stacked array formed by stacking the given arrays, will be at least 2-D, in sequence vertically (row-wise). "
   ]
  },
  {
   "cell_type": "code",
   "execution_count": 46,
   "id": "2cb3d5ce-5fb1-4da2-87c0-3b28bcb88fa8",
   "metadata": {},
   "outputs": [],
   "source": [
    "# We create a rank 1 ndarray \n",
    "x = np.array([1,2])\n",
    "\n",
    "# We create a rank 2 ndarray \n",
    "y = np.array([[3,4],[5,6]])"
   ]
  },
  {
   "cell_type": "code",
   "execution_count": 47,
   "id": "0e419a73-e3dc-4696-b00d-9549f6523782",
   "metadata": {},
   "outputs": [
    {
     "data": {
      "text/plain": [
       "array([[1, 2],\n",
       "       [3, 4],\n",
       "       [5, 6]])"
      ]
     },
     "execution_count": 47,
     "metadata": {},
     "output_type": "execute_result"
    }
   ],
   "source": [
    "np.vstack((x,y)) # Put y under x vertically\n"
   ]
  },
  {
   "cell_type": "code",
   "execution_count": 48,
   "id": "5bf151bc-16be-413c-a6f4-79198e700831",
   "metadata": {},
   "outputs": [
    {
     "data": {
      "text/plain": [
       "array([[3, 4, 1],\n",
       "       [5, 6, 2]])"
      ]
     },
     "execution_count": 48,
     "metadata": {},
     "output_type": "execute_result"
    }
   ],
   "source": [
    "# We stack x on the right of Y. We need to reshape x in order to stack it on the right of Y. \n",
    "np.hstack((y,x.reshape(2,1)))"
   ]
  },
  {
   "cell_type": "code",
   "execution_count": null,
   "id": "951b1ce7-8250-4a5a-9dec-0972f4868bd1",
   "metadata": {},
   "outputs": [],
   "source": []
  }
 ],
 "metadata": {
  "kernelspec": {
   "display_name": "Python 3 (ipykernel)",
   "language": "python",
   "name": "python3"
  },
  "language_info": {
   "codemirror_mode": {
    "name": "ipython",
    "version": 3
   },
   "file_extension": ".py",
   "mimetype": "text/x-python",
   "name": "python",
   "nbconvert_exporter": "python",
   "pygments_lexer": "ipython3",
   "version": "3.11.5"
  }
 },
 "nbformat": 4,
 "nbformat_minor": 5
}
