{
 "cells": [
  {
   "cell_type": "code",
   "execution_count": 3,
   "id": "f8fe5ff8-b88c-4a41-bd66-57ece9043642",
   "metadata": {},
   "outputs": [],
   "source": [
    "import pandas as pd"
   ]
  },
  {
   "cell_type": "markdown",
   "id": "0c1af9c6-29ef-4ca5-8e1c-a166615922e3",
   "metadata": {},
   "source": [
    "# Series"
   ]
  },
  {
   "cell_type": "markdown",
   "id": "3c42ada8-bd63-42b4-ad1a-14ac05240ddf",
   "metadata": {},
   "source": [
    "## Creating"
   ]
  },
  {
   "cell_type": "code",
   "execution_count": 6,
   "id": "a509ce45-678c-416d-9061-ac8db7e5e753",
   "metadata": {},
   "outputs": [
    {
     "data": {
      "text/plain": [
       "eggs        1\n",
       "apples      2\n",
       "milk        3\n",
       "bread     0.1\n",
       "dtype: object"
      ]
     },
     "execution_count": 6,
     "metadata": {},
     "output_type": "execute_result"
    }
   ],
   "source": [
    "groceries = pd.Series(data=[1, \"2\", 3, 0.1], index=['eggs', 'apples', 'milk', 'bread'])\n",
    "groceries"
   ]
  },
  {
   "cell_type": "code",
   "execution_count": 7,
   "id": "63ad4bac-24d1-4c78-90c1-5351de3fc1ee",
   "metadata": {},
   "outputs": [
    {
     "name": "stdout",
     "output_type": "stream",
     "text": [
      "Groceries has shape: (4,)\n",
      "Groceries has dimension: 1\n",
      "Groceries has a total of 4 elements\n"
     ]
    }
   ],
   "source": [
    "# We print some information about Groceries\n",
    "print('Groceries has shape:', groceries.shape)\n",
    "print('Groceries has dimension:', groceries.ndim)\n",
    "print('Groceries has a total of', groceries.size, 'elements')"
   ]
  },
  {
   "cell_type": "code",
   "execution_count": 8,
   "id": "eb632635-1b0a-4c3a-b96e-07cf3b8fd23d",
   "metadata": {},
   "outputs": [
    {
     "name": "stdout",
     "output_type": "stream",
     "text": [
      "The data in Groceries is: [1 '2' 3 0.1]\n",
      "The index of Groceries is: Index(['eggs', 'apples', 'milk', 'bread'], dtype='object')\n"
     ]
    }
   ],
   "source": [
    "# We print the index and data of Groceries\n",
    "print('The data in Groceries is:', groceries.values)\n",
    "print('The index of Groceries is:', groceries.index)"
   ]
  },
  {
   "cell_type": "markdown",
   "id": "42b4dd07-05e6-4a73-9700-b11130ad7326",
   "metadata": {},
   "source": [
    "## Accesing and deleting"
   ]
  },
  {
   "cell_type": "code",
   "execution_count": 10,
   "id": "00ed1645-109d-4482-ace7-2c2d464b8b4d",
   "metadata": {},
   "outputs": [
    {
     "name": "stdout",
     "output_type": "stream",
     "text": [
      "How many eggs do we need to buy: 1\n"
     ]
    }
   ],
   "source": [
    "# We use a single index label\n",
    "print('How many eggs do we need to buy:', groceries['eggs'])"
   ]
  },
  {
   "cell_type": "code",
   "execution_count": 11,
   "id": "65ce4904-6d35-4581-af51-78602802c3c1",
   "metadata": {},
   "outputs": [
    {
     "name": "stdout",
     "output_type": "stream",
     "text": [
      "Do we need milk and bread:\n",
      " milk       3\n",
      "bread    0.1\n",
      "dtype: object\n",
      "\n"
     ]
    }
   ],
   "source": [
    "# we can access multiple index labels\n",
    "print('Do we need milk and bread:\\n', groceries[['milk', 'bread']]) \n",
    "print()\n"
   ]
  },
  {
   "cell_type": "code",
   "execution_count": 13,
   "id": "9e110e24-54d3-4ed7-9277-fe51b2ee22d8",
   "metadata": {},
   "outputs": [
    {
     "name": "stdout",
     "output_type": "stream",
     "text": [
      "Do we need milk and bread:\n",
      " milk       3\n",
      "bread    0.1\n",
      "dtype: object\n",
      "\n"
     ]
    }
   ],
   "source": [
    "\n",
    "# we use loc to access multiple index labels\n",
    "print('Do we need milk and bread:\\n', groceries.loc[['milk', 'bread']]) \n",
    "print()\n"
   ]
  },
  {
   "cell_type": "code",
   "execution_count": 33,
   "id": "8214bbbc-a0be-4a20-952e-3de473f88edc",
   "metadata": {},
   "outputs": [
    {
     "data": {
      "text/plain": [
       "3"
      ]
     },
     "execution_count": 33,
     "metadata": {},
     "output_type": "execute_result"
    }
   ],
   "source": [
    "groceries.at['milk']"
   ]
  },
  {
   "cell_type": "code",
   "execution_count": 34,
   "id": "af3c05c6-08c3-4348-b41a-2ec0563f6bd5",
   "metadata": {},
   "outputs": [
    {
     "name": "stdout",
     "output_type": "stream",
     "text": [
      "Index : eggs, Value : 2\n",
      "Index : milk, Value : 3\n",
      "Index : bread, Value : 0.1\n"
     ]
    }
   ],
   "source": [
    "for index, value in groceries.items():\n",
    "    print(f\"Index : {index}, Value : {value}\")"
   ]
  },
  {
   "cell_type": "markdown",
   "id": "db0dd5f8-0181-43a9-9bdd-58238327cf26",
   "metadata": {},
   "source": [
    "### We access elements in Groceries using numerical indices:"
   ]
  },
  {
   "cell_type": "code",
   "execution_count": 21,
   "id": "289b0a05-ad25-4021-8a58-36f1f78968c1",
   "metadata": {},
   "outputs": [
    {
     "name": "stdout",
     "output_type": "stream",
     "text": [
      "How many eggs and apples do we need to buy:\n",
      " eggs      1\n",
      "apples    2\n",
      "dtype: object\n",
      "\n"
     ]
    },
    {
     "name": "stderr",
     "output_type": "stream",
     "text": [
      "/tmp/ipykernel_18946/1279241491.py:2: FutureWarning: Series.__getitem__ treating keys as positions is deprecated. In a future version, integer keys will always be treated as labels (consistent with DataFrame behavior). To access a value by position, use `ser.iloc[pos]`\n",
      "  print('How many eggs and apples do we need to buy:\\n',  groceries[[0, 1]])\n"
     ]
    }
   ],
   "source": [
    "# we use multiple numerical indices\n",
    "print('How many eggs and apples do we need to buy:\\n',  groceries[[0, 1]]) \n",
    "print()\n",
    "## However this is now deprecated\n"
   ]
  },
  {
   "cell_type": "code",
   "execution_count": 22,
   "id": "41605b25-469f-4c4a-a3c3-8784a795dce2",
   "metadata": {},
   "outputs": [
    {
     "name": "stdout",
     "output_type": "stream",
     "text": [
      "Do we need milk and bread:\n",
      " eggs      1\n",
      "apples    2\n",
      "dtype: object\n"
     ]
    }
   ],
   "source": [
    "\n",
    "# we use iloc to access multiple numerical indices\n",
    "print('Do we need milk and bread:\\n', groceries.iloc[[0, 1]]) "
   ]
  },
  {
   "cell_type": "markdown",
   "id": "96e8c630-f01f-4bab-aa62-4c30f6715400",
   "metadata": {},
   "source": [
    "## Mutate elements using index labels"
   ]
  },
  {
   "cell_type": "code",
   "execution_count": 23,
   "id": "647bbceb-cba1-4bf9-8720-9a00ef776e35",
   "metadata": {},
   "outputs": [
    {
     "name": "stdout",
     "output_type": "stream",
     "text": [
      "Original Grocery List:\n",
      " eggs        1\n",
      "apples      2\n",
      "milk        3\n",
      "bread     0.1\n",
      "dtype: object\n"
     ]
    }
   ],
   "source": [
    "# We display the original grocery list\n",
    "print('Original Grocery List:\\n', groceries)\n"
   ]
  },
  {
   "cell_type": "code",
   "execution_count": 24,
   "id": "66fc124d-e3cb-45bf-ade3-0e0ac475aa56",
   "metadata": {},
   "outputs": [],
   "source": [
    "# We change the number of eggs to 2\n",
    "groceries['eggs'] = 2\n"
   ]
  },
  {
   "cell_type": "code",
   "execution_count": 25,
   "id": "1aa9d916-1636-42e7-bba2-569eae60beb0",
   "metadata": {},
   "outputs": [
    {
     "name": "stdout",
     "output_type": "stream",
     "text": [
      "Grocery List after removing apples in place:\n",
      " eggs        2\n",
      "apples      2\n",
      "milk        3\n",
      "bread     0.1\n",
      "dtype: object\n"
     ]
    }
   ],
   "source": [
    "print('Grocery List after removing apples in place:\\n', groceries)"
   ]
  },
  {
   "cell_type": "markdown",
   "id": "f500166a-0f7c-4ad3-b88e-dd7a954157d1",
   "metadata": {},
   "source": [
    "## Deleting items"
   ]
  },
  {
   "cell_type": "code",
   "execution_count": 26,
   "id": "0bcb703e-aace-402d-bf1d-f8f4f121c254",
   "metadata": {},
   "outputs": [
    {
     "name": "stdout",
     "output_type": "stream",
     "text": [
      "Original Grocery List:\n",
      " eggs        2\n",
      "apples      2\n",
      "milk        3\n",
      "bread     0.1\n",
      "dtype: object\n"
     ]
    }
   ],
   "source": [
    "# We display the original grocery list\n",
    "print('Original Grocery List:\\n', groceries)\n"
   ]
  },
  {
   "cell_type": "code",
   "execution_count": 27,
   "id": "a3010d0b-0543-43d8-9ccf-ad83b23a04bb",
   "metadata": {},
   "outputs": [
    {
     "name": "stdout",
     "output_type": "stream",
     "text": [
      "\n",
      "We remove apples (out of place):\n",
      " eggs       2\n",
      "milk       3\n",
      "bread    0.1\n",
      "dtype: object\n"
     ]
    }
   ],
   "source": [
    "# We remove apples from our grocery list. The drop function removes elements out of place\n",
    "print()\n",
    "print('We remove apples (out of place):\\n', groceries.drop('apples'))"
   ]
  },
  {
   "cell_type": "code",
   "execution_count": 28,
   "id": "7fa61983-723f-4484-8a11-2f3f61ac7469",
   "metadata": {},
   "outputs": [
    {
     "name": "stdout",
     "output_type": "stream",
     "text": [
      "\n",
      "Grocery List after removing apples out of place:\n",
      " eggs        2\n",
      "apples      2\n",
      "milk        3\n",
      "bread     0.1\n",
      "dtype: object\n"
     ]
    }
   ],
   "source": [
    "# When we remove elements out of place the original Series remains intact. To see this\n",
    "# we display our grocery list again\n",
    "print()\n",
    "print('Grocery List after removing apples out of place:\\n', groceries)"
   ]
  },
  {
   "cell_type": "markdown",
   "id": "e983eb75-328f-449e-9093-f0003554d9a4",
   "metadata": {},
   "source": [
    "### Delete elements in-place using drop()"
   ]
  },
  {
   "cell_type": "code",
   "execution_count": 29,
   "id": "db115efc-4671-4bcf-ac4d-b545748e48fc",
   "metadata": {},
   "outputs": [
    {
     "name": "stdout",
     "output_type": "stream",
     "text": [
      "Original Grocery List:\n",
      " eggs        2\n",
      "apples      2\n",
      "milk        3\n",
      "bread     0.1\n",
      "dtype: object\n",
      "\n",
      "Grocery List after removing apples in place:\n",
      " eggs       2\n",
      "milk       3\n",
      "bread    0.1\n",
      "dtype: object\n"
     ]
    }
   ],
   "source": [
    "# We display the original grocery list\n",
    "print('Original Grocery List:\\n', groceries)\n",
    "\n",
    "# We remove apples from our grocery list in place by setting the inplace keyword to True\n",
    "groceries.drop('apples', inplace = True)\n",
    "\n",
    "# When we remove elements in place the original Series its modified. To see this\n",
    "# we display our grocery list again\n",
    "print()\n",
    "print('Grocery List after removing apples in place:\\n', groceries)"
   ]
  },
  {
   "cell_type": "code",
   "execution_count": null,
   "id": "395ef336-a558-487e-b072-c5a4daa7ebba",
   "metadata": {},
   "outputs": [],
   "source": []
  }
 ],
 "metadata": {
  "kernelspec": {
   "display_name": "Python 3 (ipykernel)",
   "language": "python",
   "name": "python3"
  },
  "language_info": {
   "codemirror_mode": {
    "name": "ipython",
    "version": 3
   },
   "file_extension": ".py",
   "mimetype": "text/x-python",
   "name": "python",
   "nbconvert_exporter": "python",
   "pygments_lexer": "ipython3",
   "version": "3.11.5"
  }
 },
 "nbformat": 4,
 "nbformat_minor": 5
}
