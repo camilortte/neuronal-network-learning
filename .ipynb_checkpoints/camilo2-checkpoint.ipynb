{
 "cells": [
  {
   "cell_type": "code",
   "execution_count": 5,
   "id": "984de5fb-2839-4554-a5df-997844ce387a",
   "metadata": {},
   "outputs": [
    {
     "name": "stdout",
     "output_type": "stream",
     "text": [
      "camilo\n",
      "otsssssro\n"
     ]
    }
   ],
   "source": [
    "print(\"camilo\")\n",
    "\n",
    "print(\"otsssssro\")"
   ]
  },
  {
   "cell_type": "code",
   "execution_count": null,
   "id": "d3ed5e0f-b3ea-4d0c-97b8-07fa374deb26",
   "metadata": {},
   "outputs": [],
   "source": []
  },
  {
   "cell_type": "code",
   "execution_count": null,
   "id": "1ad203e9-d423-4763-9128-39ca3e5e1724",
   "metadata": {},
   "outputs": [],
   "source": []
  }
 ],
 "metadata": {
  "kernelspec": {
   "display_name": "Python 3 (ipykernel)",
   "language": "python",
   "name": "python3"
  },
  "language_info": {
   "codemirror_mode": {
    "name": "ipython",
    "version": 3
   },
   "file_extension": ".py",
   "mimetype": "text/x-python",
   "name": "python",
   "nbconvert_exporter": "python",
   "pygments_lexer": "ipython3",
   "version": "3.11.5"
  }
 },
 "nbformat": 4,
 "nbformat_minor": 5
}
