{
 "cells": [
  {
   "cell_type": "code",
   "execution_count": 2,
   "id": "13d76af7-7c24-4b98-9472-880029d70538",
   "metadata": {},
   "outputs": [],
   "source": [
    "import numpy as np"
   ]
  },
  {
   "cell_type": "code",
   "execution_count": 3,
   "id": "a4157f52-8759-4a02-88ce-0581824c0027",
   "metadata": {},
   "outputs": [],
   "source": [
    "x = np.array([1,2,3,4])"
   ]
  },
  {
   "cell_type": "code",
   "execution_count": 10,
   "id": "c5fda0d0-b6bf-4578-880a-79a39179faf3",
   "metadata": {},
   "outputs": [
    {
     "name": "stdout",
     "output_type": "stream",
     "text": [
      "[1 2 3 4]\n",
      "<class 'numpy.ndarray'>\n",
      "int64\n"
     ]
    }
   ],
   "source": [
    "print(x)\n",
    "print(type(x))\n",
    "print(x.dtype)"
   ]
  },
  {
   "cell_type": "code",
   "execution_count": 12,
   "id": "3c718677-6b55-4204-8cc0-97c8ae43db16",
   "metadata": {},
   "outputs": [
    {
     "data": {
      "text/plain": [
       "(4,)"
      ]
     },
     "execution_count": 12,
     "metadata": {},
     "output_type": "execute_result"
    }
   ],
   "source": [
    "x.shape"
   ]
  },
  {
   "cell_type": "markdown",
   "id": "15c9ce40-42ed-4ba9-8d06-496599a5c3f2",
   "metadata": {},
   "source": [
    "# Two dimensional Array\n"
   ]
  },
  {
   "cell_type": "code",
   "execution_count": 17,
   "id": "623a66ac-f8c7-4591-a572-3d4403c0e0c2",
   "metadata": {},
   "outputs": [],
   "source": [
    "y = np.array([\n",
    "    [1,2,3,4],\n",
    "    [5,6,7,8],\n",
    "    [9,10,11,12]\n",
    "])"
   ]
  },
  {
   "cell_type": "code",
   "execution_count": 18,
   "id": "2a71a435-5d3f-4554-8f5c-302835a69969",
   "metadata": {},
   "outputs": [
    {
     "name": "stdout",
     "output_type": "stream",
     "text": [
      "(3, 4)\n"
     ]
    }
   ],
   "source": [
    "print(y.shape) # Dimension"
   ]
  },
  {
   "cell_type": "code",
   "execution_count": 19,
   "id": "b4de3b2f-d4a2-472f-a662-5a8026e3a1d0",
   "metadata": {},
   "outputs": [
    {
     "name": "stdout",
     "output_type": "stream",
     "text": [
      "12\n"
     ]
    }
   ],
   "source": [
    "print(y.size) # Total elements"
   ]
  },
  {
   "cell_type": "code",
   "execution_count": 21,
   "id": "482add6f-1f80-4072-8dbc-7d5d5aac5116",
   "metadata": {},
   "outputs": [],
   "source": [
    "z = np.array([1,2,3,4], dtype=np.int8)"
   ]
  },
  {
   "cell_type": "code",
   "execution_count": 22,
   "id": "5709d267-464c-4491-80fe-c70491c902cf",
   "metadata": {},
   "outputs": [
    {
     "data": {
      "text/plain": [
       "array([1, 2, 3, 4], dtype=int8)"
      ]
     },
     "execution_count": 22,
     "metadata": {},
     "output_type": "execute_result"
    }
   ],
   "source": [
    "z"
   ]
  },
  {
   "cell_type": "code",
   "execution_count": 24,
   "id": "209d03bf-df9f-41ee-a49a-cc2bd73863c4",
   "metadata": {},
   "outputs": [],
   "source": [
    "np.save('my_array', y)"
   ]
  },
  {
   "cell_type": "code",
   "execution_count": 26,
   "id": "153ca14c-3f76-49d9-af97-85423a0cb6bb",
   "metadata": {},
   "outputs": [],
   "source": [
    "y2 = np.load('my_array.npy')\n"
   ]
  },
  {
   "cell_type": "code",
   "execution_count": 28,
   "id": "db3c57f2-9130-4ea2-8ae2-a0b0935e4eea",
   "metadata": {},
   "outputs": [
    {
     "name": "stdout",
     "output_type": "stream",
     "text": [
      "[[ 1  2  3  4]\n",
      " [ 5  6  7  8]\n",
      " [ 9 10 11 12]]\n"
     ]
    }
   ],
   "source": [
    "print(y2)"
   ]
  },
  {
   "cell_type": "code",
   "execution_count": 3,
   "id": "ea99b6e5-3621-4481-8c2d-f327a12f9789",
   "metadata": {},
   "outputs": [
    {
     "data": {
      "text/plain": [
       "array([-2.00000000e+000,  1.39665569e-314])"
      ]
     },
     "execution_count": 3,
     "metadata": {},
     "output_type": "execute_result"
    }
   ],
   "source": [
    "np.empty(2) \n"
   ]
  },
  {
   "cell_type": "markdown",
   "id": "b2f21b72-5060-4820-b85c-fb3232076d7c",
   "metadata": {},
   "source": [
    "# Creating Arrays"
   ]
  },
  {
   "cell_type": "code",
   "execution_count": 6,
   "id": "62529f83-3743-4063-911c-06a4e19124b1",
   "metadata": {},
   "outputs": [
    {
     "data": {
      "text/plain": [
       "array([[0., 0., 0., 0.],\n",
       "       [0., 0., 0., 0.],\n",
       "       [0., 0., 0., 0.]])"
      ]
     },
     "execution_count": 6,
     "metadata": {},
     "output_type": "execute_result"
    }
   ],
   "source": [
    "# Creating 3x4 array with zeros\n",
    "x = np.zeros((3,4))\n",
    "x"
   ]
  },
  {
   "cell_type": "code",
   "execution_count": 8,
   "id": "14842836-8e15-4593-b1db-3b7b21d488e3",
   "metadata": {},
   "outputs": [
    {
     "data": {
      "text/plain": [
       "array([[1, 1, 1, 1],\n",
       "       [1, 1, 1, 1],\n",
       "       [1, 1, 1, 1]], dtype=int16)"
      ]
     },
     "execution_count": 8,
     "metadata": {},
     "output_type": "execute_result"
    }
   ],
   "source": [
    "# Similar to create it with 1\n",
    "x = np.ones((3,4), dtype=np.int16)\n",
    "x"
   ]
  },
  {
   "cell_type": "code",
   "execution_count": 9,
   "id": "d49174f5-af75-43f8-8728-cea628461959",
   "metadata": {},
   "outputs": [
    {
     "data": {
      "text/plain": [
       "array([[5, 5, 5, 5],\n",
       "       [5, 5, 5, 5],\n",
       "       [5, 5, 5, 5]])"
      ]
     },
     "execution_count": 9,
     "metadata": {},
     "output_type": "execute_result"
    }
   ],
   "source": [
    "# Create array with a specified number\n",
    "x = np.full((3,4), 5)\n",
    "x"
   ]
  },
  {
   "cell_type": "code",
   "execution_count": 15,
   "id": "c7711ce8-944d-4f1a-be37-78c5233665b6",
   "metadata": {},
   "outputs": [
    {
     "data": {
      "text/plain": [
       "array([[1., 0., 0., 0., 0.],\n",
       "       [0., 1., 0., 0., 0.],\n",
       "       [0., 0., 1., 0., 0.],\n",
       "       [0., 0., 0., 1., 0.],\n",
       "       [0., 0., 0., 0., 1.]])"
      ]
     },
     "execution_count": 15,
     "metadata": {},
     "output_type": "execute_result"
    }
   ],
   "source": [
    "# Create a Identity Matrix (Becauuse i and itenty matdix, this created a square matrix)\n",
    "x = np.eye(5)\n",
    "x\n"
   ]
  },
  {
   "cell_type": "code",
   "execution_count": 17,
   "id": "3d14154e-4a18-454f-8f3a-78cd963e9a7c",
   "metadata": {},
   "outputs": [
    {
     "data": {
      "text/plain": [
       "array([[1, 0, 0, 0, 0, 0],\n",
       "       [0, 2, 0, 0, 0, 0],\n",
       "       [0, 0, 3, 0, 0, 0],\n",
       "       [0, 0, 0, 4, 0, 0],\n",
       "       [0, 0, 0, 0, 5, 0],\n",
       "       [0, 0, 0, 0, 0, 6]])"
      ]
     },
     "execution_count": 17,
     "metadata": {},
     "output_type": "execute_result"
    }
   ],
   "source": [
    "# Create a diag matrix with custom values\n",
    "x = np.diag([1,2,3,4,5,6])\n",
    "x"
   ]
  },
  {
   "cell_type": "markdown",
   "id": "d28f4dfe-85ff-4927-84a0-a38eb094dd50",
   "metadata": {},
   "source": [
    "# Arange\n"
   ]
  },
  {
   "cell_type": "code",
   "execution_count": 18,
   "id": "3b53fb61-2ef0-4e65-a101-b4bd2f2b5ec8",
   "metadata": {},
   "outputs": [
    {
     "data": {
      "text/plain": [
       "array([0, 1, 2, 3, 4])"
      ]
     },
     "execution_count": 18,
     "metadata": {},
     "output_type": "execute_result"
    }
   ],
   "source": [
    "# Createing an arange array\n",
    "x = np.arange(5)\n",
    "x"
   ]
  },
  {
   "cell_type": "code",
   "execution_count": 20,
   "id": "889ada2e-01ff-4638-ac84-3d9d33e104c3",
   "metadata": {},
   "outputs": [
    {
     "data": {
      "text/plain": [
       "array([5, 6, 7, 8, 9])"
      ]
     },
     "execution_count": 20,
     "metadata": {},
     "output_type": "execute_result"
    }
   ],
   "source": [
    "# Createing an arange array witrh start, stop\n",
    "x = np.arange(5, 10)\n",
    "x"
   ]
  },
  {
   "cell_type": "code",
   "execution_count": 22,
   "id": "6616d9d2-c9a2-4b03-9fd2-2e263e36e96f",
   "metadata": {},
   "outputs": [
    {
     "data": {
      "text/plain": [
       "array([5, 7, 9])"
      ]
     },
     "execution_count": 22,
     "metadata": {},
     "output_type": "execute_result"
    }
   ],
   "source": [
    "# THe same but more arguments np.arange(start,stop,step)\n",
    "x = np.arange(5, 10, 2)\n",
    "x"
   ]
  },
  {
   "cell_type": "code",
   "execution_count": 25,
   "id": "8e29b790-b40b-4e20-95fc-61e64918c211",
   "metadata": {},
   "outputs": [
    {
     "data": {
      "text/plain": [
       "array([ 0.        ,  2.77777778,  5.55555556,  8.33333333, 11.11111111,\n",
       "       13.88888889, 16.66666667, 19.44444444, 22.22222222, 25.        ])"
      ]
     },
     "execution_count": 25,
     "metadata": {},
     "output_type": "execute_result"
    }
   ],
   "source": [
    "# Lindaspace  (Create array with equial space)\n",
    "# We create a rank 1 ndarray that has 10 integers evenly spaced between 0 and 25.\n",
    "x = np.linspace(0,25,10)\n",
    "x"
   ]
  },
  {
   "cell_type": "markdown",
   "id": "4f2e44ac-0477-48c1-be45-fb6a57a2a503",
   "metadata": {},
   "source": [
    "## Reshape"
   ]
  },
  {
   "cell_type": "code",
   "execution_count": 27,
   "id": "a79cf543-c4ed-48bb-8295-4bee5cd44171",
   "metadata": {},
   "outputs": [
    {
     "name": "stdout",
     "output_type": "stream",
     "text": [
      "[ 0  1  2  3  4  5  6  7  8  9 10 11 12 13 14 15 16 17 18 19]\n",
      "[[ 0  1  2  3  4]\n",
      " [ 5  6  7  8  9]\n",
      " [10 11 12 13 14]\n",
      " [15 16 17 18 19]]\n"
     ]
    }
   ],
   "source": [
    "# It gives a new shape to an array without changing its data. \n",
    "\n",
    "# We create a rank 1 ndarray with sequential integers from 0 to 19\n",
    "x = np.arange(20)\n",
    "print(x)\n",
    "\n",
    "# We reshape x into a 4 x 5 ndarray \n",
    "x = np.reshape(x, (4,5))\n",
    "print(x)"
   ]
  },
  {
   "cell_type": "code",
   "execution_count": 28,
   "id": "7cb87e70-ac0e-4529-b79e-d9dc1b06c2bf",
   "metadata": {},
   "outputs": [
    {
     "data": {
      "text/plain": [
       "array([[ 0,  1,  2,  3,  4],\n",
       "       [ 5,  6,  7,  8,  9],\n",
       "       [10, 11, 12, 13, 14],\n",
       "       [15, 16, 17, 18, 19]])"
      ]
     },
     "execution_count": 28,
     "metadata": {},
     "output_type": "execute_result"
    }
   ],
   "source": [
    "# SImilar but as a method\n",
    "\n",
    "# We create a a rank 1 ndarray with sequential integers from 0 to 19 and\n",
    "# reshape it to a 4 x 5 array \n",
    "x = np.arange(20).reshape(4, 5)\n",
    "x"
   ]
  },
  {
   "cell_type": "markdown",
   "id": "995aef90-7630-40ee-8485-2886103ecf75",
   "metadata": {},
   "source": [
    "## Random"
   ]
  },
  {
   "cell_type": "code",
   "execution_count": 29,
   "id": "bc4e1338-be73-49b5-9bb3-814ba5629059",
   "metadata": {},
   "outputs": [
    {
     "data": {
      "text/plain": [
       "array([[ 6,  9],\n",
       "       [ 8,  5],\n",
       "       [12, 13]])"
      ]
     },
     "execution_count": 29,
     "metadata": {},
     "output_type": "execute_result"
    }
   ],
   "source": [
    "# We create a 3 x 2 ndarray with random integers in the half-open interval [4, 15).\n",
    "x = np.random.randint(4,15,size=(3,2))\n",
    "x"
   ]
  },
  {
   "cell_type": "code",
   "execution_count": 31,
   "id": "a011f0a7-31c3-411b-90a2-444ed9bcde9f",
   "metadata": {},
   "outputs": [
    {
     "data": {
      "text/plain": [
       "array([[0.53597279, 0.49290168, 0.37346694],\n",
       "       [0.14800269, 0.16546171, 0.27172453],\n",
       "       [0.22508481, 0.11115856, 0.53063226]])"
      ]
     },
     "execution_count": 31,
     "metadata": {},
     "output_type": "execute_result"
    }
   ],
   "source": [
    "# We create a 3 x 3 ndarray with random floats in the half-open interval [0.0, 1.0).\n",
    "x = np.random.random((3,3))\n",
    "x"
   ]
  },
  {
   "cell_type": "code",
   "execution_count": 34,
   "id": "1c3e66ad-dfda-4cc5-bac8-7d5c91cb1aa5",
   "metadata": {},
   "outputs": [
    {
     "name": "stdout",
     "output_type": "stream",
     "text": [
      "[[ 0.14563016  0.00166188 -0.04403397 ...  0.05739434  0.11229283\n",
      "  -0.05772209]\n",
      " [-0.09071558 -0.10882259 -0.18566865 ...  0.03337061 -0.01318337\n",
      "   0.07527685]\n",
      " [-0.2642557  -0.02435627  0.04161641 ... -0.03577698  0.04078593\n",
      "  -0.14213898]\n",
      " ...\n",
      " [-0.05189377  0.00866537 -0.13974822 ...  0.1556803  -0.08093479\n",
      "  -0.07176053]\n",
      " [ 0.20820155  0.06761469 -0.17754914 ...  0.01787938  0.11083189\n",
      "  -0.01368989]\n",
      " [ 0.1158486  -0.22036504  0.0566778  ... -0.05383941 -0.00054732\n",
      "  -0.09846337]]\n",
      "X has dimensions: (1000, 1000)\n",
      "X is an object of type: <class 'numpy.ndarray'>\n",
      "The elements in X are of type: float64\n",
      "The elements in X have a mean of: 1.705563375857212e-05\n",
      "The maximum value in X is: 0.4683745456574007\n",
      "The minimum value in X is: -0.4723739346867742\n",
      "X has 500243 negative numbers\n",
      "X has 499757 positive numbers\n"
     ]
    }
   ],
   "source": [
    "# We create a 1000 x 1000 ndarray of random floats drawn from normal (Gaussian) distribution\n",
    "# with a mean of zero and a standard deviation of 0.1.\n",
    "x = np.random.normal(0, 0.1, size=(1000,1000))\n",
    "\n",
    "# We print information about X\n",
    "print(x)\n",
    "print('X has dimensions:', x.shape)\n",
    "print('X is an object of type:', type(x))\n",
    "print('The elements in X are of type:', x.dtype)\n",
    "print('The elements in X have a mean of:', x.mean())\n",
    "print('The maximum value in X is:', x.max())\n",
    "print('The minimum value in X is:', x.min())\n",
    "print('X has', (x < 0).sum(), 'negative numbers')\n",
    "print('X has', (x > 0).sum(), 'positive numbers')"
   ]
  },
  {
   "cell_type": "code",
   "execution_count": null,
   "id": "8de24795-494c-4b99-a00d-198ca1e6f17b",
   "metadata": {},
   "outputs": [],
   "source": []
  }
 ],
 "metadata": {
  "kernelspec": {
   "display_name": "Python 3 (ipykernel)",
   "language": "python",
   "name": "python3"
  },
  "language_info": {
   "codemirror_mode": {
    "name": "ipython",
    "version": 3
   },
   "file_extension": ".py",
   "mimetype": "text/x-python",
   "name": "python",
   "nbconvert_exporter": "python",
   "pygments_lexer": "ipython3",
   "version": "3.11.5"
  }
 },
 "nbformat": 4,
 "nbformat_minor": 5
}
